{
 "cells": [
  {
   "cell_type": "markdown",
   "id": "c0cf7365",
   "metadata": {},
   "source": [
    "# 3.4. Linear Regression Implementation from Scratch"
   ]
  },
  {
   "cell_type": "markdown",
   "id": "e95efa00",
   "metadata": {},
   "source": [
    "## 📘 Code Along"
   ]
  },
  {
   "cell_type": "code",
   "execution_count": 1,
   "id": "e57ea8fb",
   "metadata": {},
   "outputs": [],
   "source": [
    "%matplotlib inline\n",
    "import torch"
   ]
  },
  {
   "cell_type": "markdown",
   "id": "135adfb2",
   "metadata": {},
   "source": [
    "### 3.4.1. Defining the Model"
   ]
  },
  {
   "cell_type": "code",
   "execution_count": null,
   "id": "437de60d",
   "metadata": {},
   "outputs": [],
   "source": []
  }
 ],
 "metadata": {
  "kernelspec": {
   "display_name": "venv",
   "language": "python",
   "name": "python3"
  },
  "language_info": {
   "codemirror_mode": {
    "name": "ipython",
    "version": 3
   },
   "file_extension": ".py",
   "mimetype": "text/x-python",
   "name": "python",
   "nbconvert_exporter": "python",
   "pygments_lexer": "ipython3",
   "version": "3.13.3"
  }
 },
 "nbformat": 4,
 "nbformat_minor": 5
}
