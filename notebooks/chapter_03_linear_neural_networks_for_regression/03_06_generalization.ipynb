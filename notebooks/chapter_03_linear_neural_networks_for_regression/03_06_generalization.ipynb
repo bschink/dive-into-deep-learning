{
 "cells": [
  {
   "cell_type": "markdown",
   "id": "3fb24281",
   "metadata": {},
   "source": [
    "# 3.6. Generalization"
   ]
  },
  {
   "cell_type": "markdown",
   "id": "ebdc83d4",
   "metadata": {},
   "source": [
    "## 📘 Code Along"
   ]
  },
  {
   "cell_type": "markdown",
   "id": "dfb673d1",
   "metadata": {},
   "source": [
    "### 3.6.1. Training Error and Generalization Error"
   ]
  },
  {
   "cell_type": "markdown",
   "id": "efa9fef8",
   "metadata": {},
   "source": [
    "### 3.6.2. Underfitting or Overfitting?"
   ]
  },
  {
   "cell_type": "markdown",
   "id": "529121ca",
   "metadata": {},
   "source": [
    "### 3.6.3. Model Selection"
   ]
  }
 ],
 "metadata": {
  "language_info": {
   "name": "python"
  }
 },
 "nbformat": 4,
 "nbformat_minor": 5
}
