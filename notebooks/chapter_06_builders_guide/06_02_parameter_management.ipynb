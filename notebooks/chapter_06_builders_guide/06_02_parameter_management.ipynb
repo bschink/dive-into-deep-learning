{
 "cells": [
  {
   "cell_type": "markdown",
   "id": "25013b1b",
   "metadata": {},
   "source": [
    "# 6.2. Parameter Management"
   ]
  },
  {
   "cell_type": "markdown",
   "id": "a43830cb",
   "metadata": {},
   "source": [
    "## 📘 Code Along"
   ]
  }
 ],
 "metadata": {
  "language_info": {
   "name": "python"
  }
 },
 "nbformat": 4,
 "nbformat_minor": 5
}
