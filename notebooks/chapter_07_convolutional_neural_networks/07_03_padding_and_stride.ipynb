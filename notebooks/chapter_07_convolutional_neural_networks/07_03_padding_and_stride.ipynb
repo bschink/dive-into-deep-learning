{
 "cells": [
  {
   "cell_type": "markdown",
   "id": "6021b280",
   "metadata": {},
   "source": [
    "# 7.3. Padding and Stride"
   ]
  },
  {
   "cell_type": "markdown",
   "id": "e9aa3227",
   "metadata": {},
   "source": [
    "## 📘 Code Along"
   ]
  }
 ],
 "metadata": {
  "language_info": {
   "name": "python"
  }
 },
 "nbformat": 4,
 "nbformat_minor": 5
}
