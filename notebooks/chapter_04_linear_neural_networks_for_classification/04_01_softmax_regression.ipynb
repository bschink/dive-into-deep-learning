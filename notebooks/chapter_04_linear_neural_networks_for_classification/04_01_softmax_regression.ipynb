{
 "cells": [
  {
   "cell_type": "markdown",
   "id": "9bcc77a5",
   "metadata": {},
   "source": [
    "# 4.1. Softmax Regression"
   ]
  },
  {
   "cell_type": "markdown",
   "id": "a7baee05",
   "metadata": {},
   "source": [
    "## 📘 Code Along"
   ]
  },
  {
   "cell_type": "markdown",
   "id": "eec955f0",
   "metadata": {},
   "source": [
    "### 4.1.1. Classification"
   ]
  },
  {
   "cell_type": "markdown",
   "id": "b17ea7f4",
   "metadata": {},
   "source": [
    "### 4.1.2. Loss Function"
   ]
  },
  {
   "cell_type": "markdown",
   "id": "8674d6a9",
   "metadata": {},
   "source": [
    "### 4.1.3. Information Theory Basics"
   ]
  }
 ],
 "metadata": {
  "language_info": {
   "name": "python"
  }
 },
 "nbformat": 4,
 "nbformat_minor": 5
}
