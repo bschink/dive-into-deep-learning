{
 "cells": [
  {
   "cell_type": "markdown",
   "id": "3e576080",
   "metadata": {},
   "source": [
    "# 9.1. Working with Sequences"
   ]
  },
  {
   "cell_type": "markdown",
   "id": "41b6ab23",
   "metadata": {},
   "source": [
    "## 📘 Code Along"
   ]
  },
  {
   "cell_type": "code",
   "execution_count": 1,
   "id": "7e4295c2",
   "metadata": {},
   "outputs": [],
   "source": [
    "%matplotlib inline\n",
    "import torch\n",
    "from torch import nn"
   ]
  },
  {
   "cell_type": "markdown",
   "id": "6b297f52",
   "metadata": {},
   "source": [
    "### 9.1.1. Autoregressive Models"
   ]
  },
  {
   "cell_type": "markdown",
   "id": "0aa48553",
   "metadata": {},
   "source": [
    "### 9.1.2. Sequence Models"
   ]
  }
 ],
 "metadata": {
  "kernelspec": {
   "display_name": "venv",
   "language": "python",
   "name": "python3"
  },
  "language_info": {
   "codemirror_mode": {
    "name": "ipython",
    "version": 3
   },
   "file_extension": ".py",
   "mimetype": "text/x-python",
   "name": "python",
   "nbconvert_exporter": "python",
   "pygments_lexer": "ipython3",
   "version": "3.13.3"
  }
 },
 "nbformat": 4,
 "nbformat_minor": 5
}
